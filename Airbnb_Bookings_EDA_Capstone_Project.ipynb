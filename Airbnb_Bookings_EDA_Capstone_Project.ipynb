{
  "nbformat": 4,
  "nbformat_minor": 0,
  "metadata": {
    "kernelspec": {
      "display_name": "Python 3",
      "language": "python",
      "name": "python3"
    },
    "language_info": {
      "codemirror_mode": {
        "name": "ipython",
        "version": 3
      },
      "file_extension": ".py",
      "mimetype": "text/x-python",
      "name": "python",
      "nbconvert_exporter": "python",
      "pygments_lexer": "ipython3",
      "version": "3.6.6"
    },
    "colab": {
      "name": "Airbnb Bookings EDA - Capstone Project.ipynb",
      "provenance": [],
      "include_colab_link": true
    }
  },
  "cells": [
    {
      "cell_type": "markdown",
      "metadata": {
        "id": "view-in-github",
        "colab_type": "text"
      },
      "source": [
        "<a href=\"https://colab.research.google.com/github/Ayaj-Ahmed/CAPSTONE-EDA/blob/main/Airbnb_Bookings_EDA_Capstone_Project.ipynb\" target=\"_parent\"><img src=\"https://colab.research.google.com/assets/colab-badge.svg\" alt=\"Open In Colab\"/></a>"
      ]
    },
    {
      "cell_type": "markdown",
      "metadata": {
        "id": "Y06xIdG26kRF"
      },
      "source": [
        "## <b> Since 2008, guests and hosts have used Airbnb to expand on traveling possibilities and present a more unique, personalized way of experiencing the world. Today, Airbnb became one of a kind service that is used and recognized by the whole world. Data analysis on millions of listings provided through Airbnb is a crucial factor for the company. These millions of listings generate a lot of data - data that can be analyzed and used for security, business decisions, understanding of customers' and providers' (hosts) behavior and performance on the platform, guiding marketing initiatives, implementation of innovative additional services and much more. </b>\n",
        "\n",
        "## <b>This dataset has around 49,000 observations in it with 16 columns and it is a mix between categorical and numeric values. </b>\n",
        "\n",
        "## <b> Explore and analyze the data to discover key understandings (not limited to these) such as : \n",
        "* What can we learn about different hosts and areas?\n",
        "* What can we learn from predictions? (ex: locations, prices, reviews, etc)\n",
        "* Which hosts are the busiest and why?\n",
        "* Is there any noticeable difference of traffic among different areas and what could be the reason for it? </b>"
      ]
    },
    {
      "cell_type": "markdown",
      "source": [
        "## <b> Data Exploration on Airbnb (NYC)</b>\n",
        "<b>Airbnb, Inc. is an American company that operates an online marketplace for lodging, primarily homestays for vacation rentals, and tourism activities.</b>\n",
        "\n",
        "![Airbnb logo.png](data:image/png;base64,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)"
      ],
      "metadata": {
        "id": "gy3y55-lV-n5"
      }
    },
    {
      "cell_type": "code",
      "metadata": {
        "id": "dByMsuzT8Tnw"
      },
      "source": [
        "# Importing necessary libraries for analysis of the dataset.\n",
        "#This dataset has around 49,000 observations in it with 16 columns and it is a mix between categorical and numeric values.\n",
        "import numpy as np\n",
        "import pandas as pd\n",
        "import matplotlib.pyplot as plt \n",
        "import matplotlib.image as mpimg\n",
        "%matplotlib inline\n",
        "import seaborn as sns"
      ],
      "execution_count": null,
      "outputs": []
    },
    {
      "cell_type": "code",
      "source": [
        "#importing dataset from Local Drive(PC)\n",
        "from google.colab import files\n",
        "uploaded = files.upload()"
      ],
      "metadata": {
        "colab": {
          "resources": {
            "http://localhost:8080/nbextensions/google.colab/files.js": {
              "data": "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",
              "ok": true,
              "headers": [
                [
                  "content-type",
                  "application/javascript"
                ]
              ],
              "status": 200,
              "status_text": ""
            }
          },
          "base_uri": "https://localhost:8080/",
          "height": 73
        },
        "id": "llGokzlqWHP6",
        "outputId": "f4d2e3f7-d1bc-4a21-eb9c-2315c430aa10"
      },
      "execution_count": null,
      "outputs": [
        {
          "output_type": "display_data",
          "data": {
            "text/plain": [
              "<IPython.core.display.HTML object>"
            ],
            "text/html": [
              "\n",
              "     <input type=\"file\" id=\"files-f9906de3-c18e-45d9-8bda-61b49f073afc\" name=\"files[]\" multiple disabled\n",
              "        style=\"border:none\" />\n",
              "     <output id=\"result-f9906de3-c18e-45d9-8bda-61b49f073afc\">\n",
              "      Upload widget is only available when the cell has been executed in the\n",
              "      current browser session. Please rerun this cell to enable.\n",
              "      </output>\n",
              "      <script src=\"/nbextensions/google.colab/files.js\"></script> "
            ]
          },
          "metadata": {}
        },
        {
          "output_type": "stream",
          "name": "stdout",
          "text": [
            "Saving airbnbnyc2019.csv to airbnbnyc2019.csv\n"
          ]
        }
      ]
    },
    {
      "cell_type": "code",
      "source": [
        "#Python io module allows us to manage the file-related input and output operations. \n",
        "import io\n",
        "# using pandas library and 'read_csv' function to read Airbnb NYC 2019 csv file\n",
        "airbnb = pd.read_csv(io.BytesIO(uploaded['airbnbnyc2019.csv']))\n",
        "#examing head of Airbnb NYC 2019 csv file\n",
        "airbnb.head(3)"
      ],
      "metadata": {
        "colab": {
          "base_uri": "https://localhost:8080/",
          "height": 312
        },
        "id": "BtzuWQomWO7n",
        "outputId": "bcb2de03-051a-4945-84d0-2a3a2ee24e50"
      },
      "execution_count": null,
      "outputs": [
        {
          "output_type": "execute_result",
          "data": {
            "text/plain": [
              "     id                                 name  host_id  host_name  \\\n",
              "0  2539   Clean & quiet apt home by the park     2787       John   \n",
              "1  2595                Skylit Midtown Castle     2845   Jennifer   \n",
              "2  3647  THE VILLAGE OF HARLEM....NEW YORK !     4632  Elisabeth   \n",
              "\n",
              "  neighbourhood_group neighbourhood  latitude  longitude        room_type  \\\n",
              "0            Brooklyn    Kensington  40.64749  -73.97237     Private room   \n",
              "1           Manhattan       Midtown  40.75362  -73.98377  Entire home/apt   \n",
              "2           Manhattan        Harlem  40.80902  -73.94190     Private room   \n",
              "\n",
              "   price  minimum_nights  number_of_reviews last_review  reviews_per_month  \\\n",
              "0    149               1                  9  2018-10-19               0.21   \n",
              "1    225               1                 45  2019-05-21               0.38   \n",
              "2    150               3                  0         NaN                NaN   \n",
              "\n",
              "   calculated_host_listings_count  availability_365  \n",
              "0                               6               365  \n",
              "1                               2               355  \n",
              "2                               1               365  "
            ],
            "text/html": [
              "\n",
              "  <div id=\"df-db0213fb-f813-4e03-a3e9-6afe445a38b6\">\n",
              "    <div class=\"colab-df-container\">\n",
              "      <div>\n",
              "<style scoped>\n",
              "    .dataframe tbody tr th:only-of-type {\n",
              "        vertical-align: middle;\n",
              "    }\n",
              "\n",
              "    .dataframe tbody tr th {\n",
              "        vertical-align: top;\n",
              "    }\n",
              "\n",
              "    .dataframe thead th {\n",
              "        text-align: right;\n",
              "    }\n",
              "</style>\n",
              "<table border=\"1\" class=\"dataframe\">\n",
              "  <thead>\n",
              "    <tr style=\"text-align: right;\">\n",
              "      <th></th>\n",
              "      <th>id</th>\n",
              "      <th>name</th>\n",
              "      <th>host_id</th>\n",
              "      <th>host_name</th>\n",
              "      <th>neighbourhood_group</th>\n",
              "      <th>neighbourhood</th>\n",
              "      <th>latitude</th>\n",
              "      <th>longitude</th>\n",
              "      <th>room_type</th>\n",
              "      <th>price</th>\n",
              "      <th>minimum_nights</th>\n",
              "      <th>number_of_reviews</th>\n",
              "      <th>last_review</th>\n",
              "      <th>reviews_per_month</th>\n",
              "      <th>calculated_host_listings_count</th>\n",
              "      <th>availability_365</th>\n",
              "    </tr>\n",
              "  </thead>\n",
              "  <tbody>\n",
              "    <tr>\n",
              "      <th>0</th>\n",
              "      <td>2539</td>\n",
              "      <td>Clean &amp; quiet apt home by the park</td>\n",
              "      <td>2787</td>\n",
              "      <td>John</td>\n",
              "      <td>Brooklyn</td>\n",
              "      <td>Kensington</td>\n",
              "      <td>40.64749</td>\n",
              "      <td>-73.97237</td>\n",
              "      <td>Private room</td>\n",
              "      <td>149</td>\n",
              "      <td>1</td>\n",
              "      <td>9</td>\n",
              "      <td>2018-10-19</td>\n",
              "      <td>0.21</td>\n",
              "      <td>6</td>\n",
              "      <td>365</td>\n",
              "    </tr>\n",
              "    <tr>\n",
              "      <th>1</th>\n",
              "      <td>2595</td>\n",
              "      <td>Skylit Midtown Castle</td>\n",
              "      <td>2845</td>\n",
              "      <td>Jennifer</td>\n",
              "      <td>Manhattan</td>\n",
              "      <td>Midtown</td>\n",
              "      <td>40.75362</td>\n",
              "      <td>-73.98377</td>\n",
              "      <td>Entire home/apt</td>\n",
              "      <td>225</td>\n",
              "      <td>1</td>\n",
              "      <td>45</td>\n",
              "      <td>2019-05-21</td>\n",
              "      <td>0.38</td>\n",
              "      <td>2</td>\n",
              "      <td>355</td>\n",
              "    </tr>\n",
              "    <tr>\n",
              "      <th>2</th>\n",
              "      <td>3647</td>\n",
              "      <td>THE VILLAGE OF HARLEM....NEW YORK !</td>\n",
              "      <td>4632</td>\n",
              "      <td>Elisabeth</td>\n",
              "      <td>Manhattan</td>\n",
              "      <td>Harlem</td>\n",
              "      <td>40.80902</td>\n",
              "      <td>-73.94190</td>\n",
              "      <td>Private room</td>\n",
              "      <td>150</td>\n",
              "      <td>3</td>\n",
              "      <td>0</td>\n",
              "      <td>NaN</td>\n",
              "      <td>NaN</td>\n",
              "      <td>1</td>\n",
              "      <td>365</td>\n",
              "    </tr>\n",
              "  </tbody>\n",
              "</table>\n",
              "</div>\n",
              "      <button class=\"colab-df-convert\" onclick=\"convertToInteractive('df-db0213fb-f813-4e03-a3e9-6afe445a38b6')\"\n",
              "              title=\"Convert this dataframe to an interactive table.\"\n",
              "              style=\"display:none;\">\n",
              "        \n",
              "  <svg xmlns=\"http://www.w3.org/2000/svg\" height=\"24px\"viewBox=\"0 0 24 24\"\n",
              "       width=\"24px\">\n",
              "    <path d=\"M0 0h24v24H0V0z\" fill=\"none\"/>\n",
              "    <path d=\"M18.56 5.44l.94 2.06.94-2.06 2.06-.94-2.06-.94-.94-2.06-.94 2.06-2.06.94zm-11 1L8.5 8.5l.94-2.06 2.06-.94-2.06-.94L8.5 2.5l-.94 2.06-2.06.94zm10 10l.94 2.06.94-2.06 2.06-.94-2.06-.94-.94-2.06-.94 2.06-2.06.94z\"/><path d=\"M17.41 7.96l-1.37-1.37c-.4-.4-.92-.59-1.43-.59-.52 0-1.04.2-1.43.59L10.3 9.45l-7.72 7.72c-.78.78-.78 2.05 0 2.83L4 21.41c.39.39.9.59 1.41.59.51 0 1.02-.2 1.41-.59l7.78-7.78 2.81-2.81c.8-.78.8-2.07 0-2.86zM5.41 20L4 18.59l7.72-7.72 1.47 1.35L5.41 20z\"/>\n",
              "  </svg>\n",
              "      </button>\n",
              "      \n",
              "  <style>\n",
              "    .colab-df-container {\n",
              "      display:flex;\n",
              "      flex-wrap:wrap;\n",
              "      gap: 12px;\n",
              "    }\n",
              "\n",
              "    .colab-df-convert {\n",
              "      background-color: #E8F0FE;\n",
              "      border: none;\n",
              "      border-radius: 50%;\n",
              "      cursor: pointer;\n",
              "      display: none;\n",
              "      fill: #1967D2;\n",
              "      height: 32px;\n",
              "      padding: 0 0 0 0;\n",
              "      width: 32px;\n",
              "    }\n",
              "\n",
              "    .colab-df-convert:hover {\n",
              "      background-color: #E2EBFA;\n",
              "      box-shadow: 0px 1px 2px rgba(60, 64, 67, 0.3), 0px 1px 3px 1px rgba(60, 64, 67, 0.15);\n",
              "      fill: #174EA6;\n",
              "    }\n",
              "\n",
              "    [theme=dark] .colab-df-convert {\n",
              "      background-color: #3B4455;\n",
              "      fill: #D2E3FC;\n",
              "    }\n",
              "\n",
              "    [theme=dark] .colab-df-convert:hover {\n",
              "      background-color: #434B5C;\n",
              "      box-shadow: 0px 1px 3px 1px rgba(0, 0, 0, 0.15);\n",
              "      filter: drop-shadow(0px 1px 2px rgba(0, 0, 0, 0.3));\n",
              "      fill: #FFFFFF;\n",
              "    }\n",
              "  </style>\n",
              "\n",
              "      <script>\n",
              "        const buttonEl =\n",
              "          document.querySelector('#df-db0213fb-f813-4e03-a3e9-6afe445a38b6 button.colab-df-convert');\n",
              "        buttonEl.style.display =\n",
              "          google.colab.kernel.accessAllowed ? 'block' : 'none';\n",
              "\n",
              "        async function convertToInteractive(key) {\n",
              "          const element = document.querySelector('#df-db0213fb-f813-4e03-a3e9-6afe445a38b6');\n",
              "          const dataTable =\n",
              "            await google.colab.kernel.invokeFunction('convertToInteractive',\n",
              "                                                     [key], {});\n",
              "          if (!dataTable) return;\n",
              "\n",
              "          const docLinkHtml = 'Like what you see? Visit the ' +\n",
              "            '<a target=\"_blank\" href=https://colab.research.google.com/notebooks/data_table.ipynb>data table notebook</a>'\n",
              "            + ' to learn more about interactive tables.';\n",
              "          element.innerHTML = '';\n",
              "          dataTable['output_type'] = 'display_data';\n",
              "          await google.colab.output.renderOutput(dataTable, element);\n",
              "          const docLink = document.createElement('div');\n",
              "          docLink.innerHTML = docLinkHtml;\n",
              "          element.appendChild(docLink);\n",
              "        }\n",
              "      </script>\n",
              "    </div>\n",
              "  </div>\n",
              "  "
            ]
          },
          "metadata": {},
          "execution_count": 4
        }
      ]
    },
    {
      "cell_type": "code",
      "source": [
        "# checking the number of rows in the given dataset to understand the size of the data\n",
        "print(\"Rows     :\",airbnb.shape[0])\n",
        "print(\"Columns  :\",airbnb.shape[1])\n",
        "print(\"\\nFeatures :\\n\",airbnb.columns.tolist())\n",
        "print(\"\\nMissing Value    :\\n\",airbnb.isnull().sum())\n",
        "print(\"\\nTotal Number of Missing Value in the Dataset    :\",airbnb.isnull().sum().sum())\n",
        "print(\"\\nColumns with missing value:\\n\",airbnb.isnull().any())"
      ],
      "metadata": {
        "colab": {
          "base_uri": "https://localhost:8080/"
        },
        "id": "Gs6W16YLWSgZ",
        "outputId": "8ac42eea-0627-4890-a861-31805111a133"
      },
      "execution_count": null,
      "outputs": [
        {
          "output_type": "stream",
          "name": "stdout",
          "text": [
            "Rows     : 48895\n",
            "Columns  : 16\n",
            "\n",
            "Features :\n",
            " ['id', 'name', 'host_id', 'host_name', 'neighbourhood_group', 'neighbourhood', 'latitude', 'longitude', 'room_type', 'price', 'minimum_nights', 'number_of_reviews', 'last_review', 'reviews_per_month', 'calculated_host_listings_count', 'availability_365']\n",
            "\n",
            "Missing Value    :\n",
            " id                                    0\n",
            "name                                 16\n",
            "host_id                               0\n",
            "host_name                            21\n",
            "neighbourhood_group                   0\n",
            "neighbourhood                         0\n",
            "latitude                              0\n",
            "longitude                             0\n",
            "room_type                             0\n",
            "price                                 0\n",
            "minimum_nights                        0\n",
            "number_of_reviews                     0\n",
            "last_review                       10052\n",
            "reviews_per_month                 10052\n",
            "calculated_host_listings_count        0\n",
            "availability_365                      0\n",
            "dtype: int64\n",
            "\n",
            "Total Number of Missing Value in the Dataset    : 20141\n",
            "\n",
            "Columns with missing value:\n",
            " id                                False\n",
            "name                               True\n",
            "host_id                           False\n",
            "host_name                          True\n",
            "neighbourhood_group               False\n",
            "neighbourhood                     False\n",
            "latitude                          False\n",
            "longitude                         False\n",
            "room_type                         False\n",
            "price                             False\n",
            "minimum_nights                    False\n",
            "number_of_reviews                 False\n",
            "last_review                        True\n",
            "reviews_per_month                  True\n",
            "calculated_host_listings_count    False\n",
            "availability_365                  False\n",
            "dtype: bool\n"
          ]
        }
      ]
    },
    {
      "cell_type": "markdown",
      "source": [
        "#<b>We have 4 column that contains a missing value</b>\n",
        "name, host_name, last_review & reviews_per_month.\n",
        "\n",
        "1) Name:- We dont need this column as we can do with host \"ID\" instead for the sake of simplicity as recreating the missing values is limitation on part \n",
        "\n",
        "2) host_name:- No rationale could be formed to continue data exploration towards specific individuals based on their names. For ethical reason keeping data privacy norms in minds we are dropping this column\n",
        "\n",
        "3) last_reviews:- This column is irrelevant as no concencrete observation can be deduced from this column hence we are dropping this column\n",
        "\n",
        "4) reviews_per_month- It had been assumed that there is no reviews for the listing leading to the blank cells hence a value of \"0\" (zero) can be assigned to those missing values/blank cells for a simplified approach."
      ],
      "metadata": {
        "id": "PLskbAPzWbBq"
      }
    },
    {
      "cell_type": "code",
      "source": [
        "#replacing all NaN values in 'reviews_per_month' with 0\n",
        "airbnb.fillna({'reviews_per_month':0}, inplace=True)\n",
        "#Checking out the results\n",
        "airbnb.reviews_per_month.isnull().sum()"
      ],
      "metadata": {
        "colab": {
          "base_uri": "https://localhost:8080/"
        },
        "id": "gx4QUQmkWXLl",
        "outputId": "12e021e3-5d4e-4cb7-9e4a-d6bbe6cee88e"
      },
      "execution_count": null,
      "outputs": [
        {
          "output_type": "execute_result",
          "data": {
            "text/plain": [
              "0"
            ]
          },
          "metadata": {},
          "execution_count": 6
        }
      ]
    },
    {
      "cell_type": "code",
      "source": [
        "#dropping columns that are not important for data analysis or could be unethical to use for data exploration and predictions\n",
        "airbnb.drop(['name','host_name','last_review'], axis=1, inplace=True)\n",
        "#Checking out the results\n",
        "airbnb.head(3)"
      ],
      "metadata": {
        "id": "9RjBOfOeWlpV"
      },
      "execution_count": null,
      "outputs": []
    },
    {
      "cell_type": "code",
      "source": [
        "#checking type of every column in the dataset\n",
        "airbnb.dtypes"
      ],
      "metadata": {
        "colab": {
          "base_uri": "https://localhost:8080/"
        },
        "id": "73NbKxJgWqBY",
        "outputId": "7f8226e0-f321-43d8-b7b3-ba1be9baa7fc"
      },
      "execution_count": null,
      "outputs": [
        {
          "output_type": "execute_result",
          "data": {
            "text/plain": [
              "id                                  int64\n",
              "host_id                             int64\n",
              "neighbourhood_group                object\n",
              "neighbourhood                      object\n",
              "latitude                          float64\n",
              "longitude                         float64\n",
              "room_type                          object\n",
              "price                               int64\n",
              "minimum_nights                      int64\n",
              "number_of_reviews                   int64\n",
              "reviews_per_month                 float64\n",
              "calculated_host_listings_count      int64\n",
              "availability_365                    int64\n",
              "dtype: object"
            ]
          },
          "metadata": {},
          "execution_count": 8
        }
      ]
    },
    {
      "cell_type": "markdown",
      "source": [
        "##<b> Let's Explore the Dataset </b>\n",
        "\n",
        "##<b>What can we learn about different hosts and areas?</b>\n"
      ],
      "metadata": {
        "id": "UFyf77oqWvid"
      }
    },
    {
      "cell_type": "code",
      "source": [
        "#Starting by Capturing the unique data of neighbourhood_groups\n",
        "airbnb.neighbourhood_group.unique()"
      ],
      "metadata": {
        "colab": {
          "base_uri": "https://localhost:8080/"
        },
        "id": "Brzt3jFXWuhB",
        "outputId": "bcbd104a-9962-4460-b49f-1eead98ed343"
      },
      "execution_count": null,
      "outputs": [
        {
          "output_type": "execute_result",
          "data": {
            "text/plain": [
              "array(['Brooklyn', 'Manhattan', 'Queens', 'Staten Island', 'Bronx'],\n",
              "      dtype=object)"
            ]
          },
          "metadata": {},
          "execution_count": 9
        }
      ]
    },
    {
      "cell_type": "code",
      "source": [
        "#Starting by Capturing the unique data of neighbourhood\n",
        "airbnb.neighbourhood.unique()"
      ],
      "metadata": {
        "colab": {
          "base_uri": "https://localhost:8080/"
        },
        "id": "A_-rL3AoW80n",
        "outputId": "1269cd80-4bfd-4421-a52d-ee527108dbdb"
      },
      "execution_count": null,
      "outputs": [
        {
          "output_type": "execute_result",
          "data": {
            "text/plain": [
              "array(['Kensington', 'Midtown', 'Harlem', 'Clinton Hill', 'East Harlem',\n",
              "       'Murray Hill', 'Bedford-Stuyvesant', \"Hell's Kitchen\",\n",
              "       'Upper West Side', 'Chinatown', 'South Slope', 'West Village',\n",
              "       'Williamsburg', 'Fort Greene', 'Chelsea', 'Crown Heights',\n",
              "       'Park Slope', 'Windsor Terrace', 'Inwood', 'East Village',\n",
              "       'Greenpoint', 'Bushwick', 'Flatbush', 'Lower East Side',\n",
              "       'Prospect-Lefferts Gardens', 'Long Island City', 'Kips Bay',\n",
              "       'SoHo', 'Upper East Side', 'Prospect Heights',\n",
              "       'Washington Heights', 'Woodside', 'Brooklyn Heights',\n",
              "       'Carroll Gardens', 'Gowanus', 'Flatlands', 'Cobble Hill',\n",
              "       'Flushing', 'Boerum Hill', 'Sunnyside', 'DUMBO', 'St. George',\n",
              "       'Highbridge', 'Financial District', 'Ridgewood',\n",
              "       'Morningside Heights', 'Jamaica', 'Middle Village', 'NoHo',\n",
              "       'Ditmars Steinway', 'Flatiron District', 'Roosevelt Island',\n",
              "       'Greenwich Village', 'Little Italy', 'East Flatbush',\n",
              "       'Tompkinsville', 'Astoria', 'Clason Point', 'Eastchester',\n",
              "       'Kingsbridge', 'Two Bridges', 'Queens Village', 'Rockaway Beach',\n",
              "       'Forest Hills', 'Nolita', 'Woodlawn', 'University Heights',\n",
              "       'Gravesend', 'Gramercy', 'Allerton', 'East New York',\n",
              "       'Theater District', 'Concourse Village', 'Sheepshead Bay',\n",
              "       'Emerson Hill', 'Fort Hamilton', 'Bensonhurst', 'Tribeca',\n",
              "       'Shore Acres', 'Sunset Park', 'Concourse', 'Elmhurst',\n",
              "       'Brighton Beach', 'Jackson Heights', 'Cypress Hills', 'St. Albans',\n",
              "       'Arrochar', 'Rego Park', 'Wakefield', 'Clifton', 'Bay Ridge',\n",
              "       'Graniteville', 'Spuyten Duyvil', 'Stapleton', 'Briarwood',\n",
              "       'Ozone Park', 'Columbia St', 'Vinegar Hill', 'Mott Haven',\n",
              "       'Longwood', 'Canarsie', 'Battery Park City', 'Civic Center',\n",
              "       'East Elmhurst', 'New Springville', 'Morris Heights', 'Arverne',\n",
              "       'Cambria Heights', 'Tottenville', 'Mariners Harbor', 'Concord',\n",
              "       'Borough Park', 'Bayside', 'Downtown Brooklyn', 'Port Morris',\n",
              "       'Fieldston', 'Kew Gardens', 'Midwood', 'College Point',\n",
              "       'Mount Eden', 'City Island', 'Glendale', 'Port Richmond',\n",
              "       'Red Hook', 'Richmond Hill', 'Bellerose', 'Maspeth',\n",
              "       'Williamsbridge', 'Soundview', 'Woodhaven', 'Woodrow',\n",
              "       'Co-op City', 'Stuyvesant Town', 'Parkchester', 'North Riverdale',\n",
              "       'Dyker Heights', 'Bronxdale', 'Sea Gate', 'Riverdale',\n",
              "       'Kew Gardens Hills', 'Bay Terrace', 'Norwood', 'Claremont Village',\n",
              "       'Whitestone', 'Fordham', 'Bayswater', 'Navy Yard', 'Brownsville',\n",
              "       'Eltingville', 'Fresh Meadows', 'Mount Hope', 'Lighthouse Hill',\n",
              "       'Springfield Gardens', 'Howard Beach', 'Belle Harbor',\n",
              "       'Jamaica Estates', 'Van Nest', 'Morris Park', 'West Brighton',\n",
              "       'Far Rockaway', 'South Ozone Park', 'Tremont', 'Corona',\n",
              "       'Great Kills', 'Manhattan Beach', 'Marble Hill', 'Dongan Hills',\n",
              "       'Castleton Corners', 'East Morrisania', 'Hunts Point', 'Neponsit',\n",
              "       'Pelham Bay', 'Randall Manor', 'Throgs Neck', 'Todt Hill',\n",
              "       'West Farms', 'Silver Lake', 'Morrisania', 'Laurelton',\n",
              "       'Grymes Hill', 'Holliswood', 'Pelham Gardens', 'Belmont',\n",
              "       'Rosedale', 'Edgemere', 'New Brighton', 'Midland Beach',\n",
              "       'Baychester', 'Melrose', 'Bergen Beach', 'Richmondtown',\n",
              "       'Howland Hook', 'Schuylerville', 'Coney Island', 'New Dorp Beach',\n",
              "       \"Prince's Bay\", 'South Beach', 'Bath Beach', 'Jamaica Hills',\n",
              "       'Oakwood', 'Castle Hill', 'Hollis', 'Douglaston', 'Huguenot',\n",
              "       'Olinville', 'Edenwald', 'Grant City', 'Westerleigh',\n",
              "       'Bay Terrace, Staten Island', 'Westchester Square', 'Little Neck',\n",
              "       'Fort Wadsworth', 'Rosebank', 'Unionport', 'Mill Basin',\n",
              "       'Arden Heights', \"Bull's Head\", 'New Dorp', 'Rossville',\n",
              "       'Breezy Point', 'Willowbrook'], dtype=object)"
            ]
          },
          "metadata": {},
          "execution_count": 10
        }
      ]
    },
    {
      "cell_type": "markdown",
      "source": [
        "##<b>New York is made up of five major areas or “boroughs,” some separated by rivers and connected via ferry or bridge. So, what are the five boroughs of New York ? </b>\n",
        "##<b>1) Manhattan, 2) Brooklyn, 3) Queens, 4) Staten Island, and 5) The Bronx.</b>\n",
        "\n",
        "(A Borough is a town or district which is an administrative unit)"
      ],
      "metadata": {
        "id": "XONHDH_GXBZs"
      }
    },
    {
      "cell_type": "code",
      "source": [
        "#Lets find the top 10 host_ID with the most listing, taking maximum utility out of Airbnb service\n",
        "top_10_host=airbnb.host_id.value_counts().head(10)\n",
        "print(top_10_host)"
      ],
      "metadata": {
        "colab": {
          "base_uri": "https://localhost:8080/"
        },
        "id": "vQswQAv1XJAX",
        "outputId": "9abf28aa-2435-4a10-bd31-69c5a7d99b3f"
      },
      "execution_count": null,
      "outputs": [
        {
          "output_type": "stream",
          "name": "stdout",
          "text": [
            "219517861    327\n",
            "107434423    232\n",
            "30283594     121\n",
            "137358866    103\n",
            "16098958      96\n",
            "12243051      96\n",
            "61391963      91\n",
            "22541573      87\n",
            "200380610     65\n",
            "7503643       52\n",
            "Name: host_id, dtype: int64\n"
          ]
        }
      ]
    },
    {
      "cell_type": "code",
      "source": [
        "#Lets find out the host with the maximum listing on Airbnb site for NYC\n",
        "top_host_check=airbnb.calculated_host_listings_count.max()\n",
        "top_host_check "
      ],
      "metadata": {
        "colab": {
          "base_uri": "https://localhost:8080/"
        },
        "id": "QvQf3o91XOm5",
        "outputId": "e8fb1446-c59f-4256-88ab-31052f9a8f09"
      },
      "execution_count": null,
      "outputs": [
        {
          "output_type": "execute_result",
          "data": {
            "text/plain": [
              "327"
            ]
          },
          "metadata": {},
          "execution_count": 12
        }
      ]
    },
    {
      "cell_type": "markdown",
      "source": [
        "##<b> Host ID 219517861 have 327 listing !!!... The highest across New York City</b>"
      ],
      "metadata": {
        "id": "zhZ_oH-0XTBV"
      }
    },
    {
      "cell_type": "code",
      "source": [
        "#setting figure size for future visualizations\n",
        "sns.set(rc={'figure.figsize':(10,8)})\n",
        "sns.set_style('white')\n",
        "top_10_host_df=pd.DataFrame(top_10_host)\n",
        "top_10_host_df.reset_index(inplace=True)\n",
        "top_10_host_df.rename(columns={'index':'Host_ID', 'host_id':'P_Count'}, inplace=True)\n",
        "top_10_host_df"
      ],
      "metadata": {
        "colab": {
          "base_uri": "https://localhost:8080/",
          "height": 363
        },
        "id": "k4XK8tANXX2B",
        "outputId": "a795cc7d-6e9e-4765-f1e1-59d05595c48e"
      },
      "execution_count": null,
      "outputs": [
        {
          "output_type": "execute_result",
          "data": {
            "text/plain": [
              "     Host_ID  P_Count\n",
              "0  219517861      327\n",
              "1  107434423      232\n",
              "2   30283594      121\n",
              "3  137358866      103\n",
              "4   16098958       96\n",
              "5   12243051       96\n",
              "6   61391963       91\n",
              "7   22541573       87\n",
              "8  200380610       65\n",
              "9    7503643       52"
            ],
            "text/html": [
              "\n",
              "  <div id=\"df-7f731c3e-99df-4baa-acb0-5e74ccbede72\">\n",
              "    <div class=\"colab-df-container\">\n",
              "      <div>\n",
              "<style scoped>\n",
              "    .dataframe tbody tr th:only-of-type {\n",
              "        vertical-align: middle;\n",
              "    }\n",
              "\n",
              "    .dataframe tbody tr th {\n",
              "        vertical-align: top;\n",
              "    }\n",
              "\n",
              "    .dataframe thead th {\n",
              "        text-align: right;\n",
              "    }\n",
              "</style>\n",
              "<table border=\"1\" class=\"dataframe\">\n",
              "  <thead>\n",
              "    <tr style=\"text-align: right;\">\n",
              "      <th></th>\n",
              "      <th>Host_ID</th>\n",
              "      <th>P_Count</th>\n",
              "    </tr>\n",
              "  </thead>\n",
              "  <tbody>\n",
              "    <tr>\n",
              "      <th>0</th>\n",
              "      <td>219517861</td>\n",
              "      <td>327</td>\n",
              "    </tr>\n",
              "    <tr>\n",
              "      <th>1</th>\n",
              "      <td>107434423</td>\n",
              "      <td>232</td>\n",
              "    </tr>\n",
              "    <tr>\n",
              "      <th>2</th>\n",
              "      <td>30283594</td>\n",
              "      <td>121</td>\n",
              "    </tr>\n",
              "    <tr>\n",
              "      <th>3</th>\n",
              "      <td>137358866</td>\n",
              "      <td>103</td>\n",
              "    </tr>\n",
              "    <tr>\n",
              "      <th>4</th>\n",
              "      <td>16098958</td>\n",
              "      <td>96</td>\n",
              "    </tr>\n",
              "    <tr>\n",
              "      <th>5</th>\n",
              "      <td>12243051</td>\n",
              "      <td>96</td>\n",
              "    </tr>\n",
              "    <tr>\n",
              "      <th>6</th>\n",
              "      <td>61391963</td>\n",
              "      <td>91</td>\n",
              "    </tr>\n",
              "    <tr>\n",
              "      <th>7</th>\n",
              "      <td>22541573</td>\n",
              "      <td>87</td>\n",
              "    </tr>\n",
              "    <tr>\n",
              "      <th>8</th>\n",
              "      <td>200380610</td>\n",
              "      <td>65</td>\n",
              "    </tr>\n",
              "    <tr>\n",
              "      <th>9</th>\n",
              "      <td>7503643</td>\n",
              "      <td>52</td>\n",
              "    </tr>\n",
              "  </tbody>\n",
              "</table>\n",
              "</div>\n",
              "      <button class=\"colab-df-convert\" onclick=\"convertToInteractive('df-7f731c3e-99df-4baa-acb0-5e74ccbede72')\"\n",
              "              title=\"Convert this dataframe to an interactive table.\"\n",
              "              style=\"display:none;\">\n",
              "        \n",
              "  <svg xmlns=\"http://www.w3.org/2000/svg\" height=\"24px\"viewBox=\"0 0 24 24\"\n",
              "       width=\"24px\">\n",
              "    <path d=\"M0 0h24v24H0V0z\" fill=\"none\"/>\n",
              "    <path d=\"M18.56 5.44l.94 2.06.94-2.06 2.06-.94-2.06-.94-.94-2.06-.94 2.06-2.06.94zm-11 1L8.5 8.5l.94-2.06 2.06-.94-2.06-.94L8.5 2.5l-.94 2.06-2.06.94zm10 10l.94 2.06.94-2.06 2.06-.94-2.06-.94-.94-2.06-.94 2.06-2.06.94z\"/><path d=\"M17.41 7.96l-1.37-1.37c-.4-.4-.92-.59-1.43-.59-.52 0-1.04.2-1.43.59L10.3 9.45l-7.72 7.72c-.78.78-.78 2.05 0 2.83L4 21.41c.39.39.9.59 1.41.59.51 0 1.02-.2 1.41-.59l7.78-7.78 2.81-2.81c.8-.78.8-2.07 0-2.86zM5.41 20L4 18.59l7.72-7.72 1.47 1.35L5.41 20z\"/>\n",
              "  </svg>\n",
              "      </button>\n",
              "      \n",
              "  <style>\n",
              "    .colab-df-container {\n",
              "      display:flex;\n",
              "      flex-wrap:wrap;\n",
              "      gap: 12px;\n",
              "    }\n",
              "\n",
              "    .colab-df-convert {\n",
              "      background-color: #E8F0FE;\n",
              "      border: none;\n",
              "      border-radius: 50%;\n",
              "      cursor: pointer;\n",
              "      display: none;\n",
              "      fill: #1967D2;\n",
              "      height: 32px;\n",
              "      padding: 0 0 0 0;\n",
              "      width: 32px;\n",
              "    }\n",
              "\n",
              "    .colab-df-convert:hover {\n",
              "      background-color: #E2EBFA;\n",
              "      box-shadow: 0px 1px 2px rgba(60, 64, 67, 0.3), 0px 1px 3px 1px rgba(60, 64, 67, 0.15);\n",
              "      fill: #174EA6;\n",
              "    }\n",
              "\n",
              "    [theme=dark] .colab-df-convert {\n",
              "      background-color: #3B4455;\n",
              "      fill: #D2E3FC;\n",
              "    }\n",
              "\n",
              "    [theme=dark] .colab-df-convert:hover {\n",
              "      background-color: #434B5C;\n",
              "      box-shadow: 0px 1px 3px 1px rgba(0, 0, 0, 0.15);\n",
              "      filter: drop-shadow(0px 1px 2px rgba(0, 0, 0, 0.3));\n",
              "      fill: #FFFFFF;\n",
              "    }\n",
              "  </style>\n",
              "\n",
              "      <script>\n",
              "        const buttonEl =\n",
              "          document.querySelector('#df-7f731c3e-99df-4baa-acb0-5e74ccbede72 button.colab-df-convert');\n",
              "        buttonEl.style.display =\n",
              "          google.colab.kernel.accessAllowed ? 'block' : 'none';\n",
              "\n",
              "        async function convertToInteractive(key) {\n",
              "          const element = document.querySelector('#df-7f731c3e-99df-4baa-acb0-5e74ccbede72');\n",
              "          const dataTable =\n",
              "            await google.colab.kernel.invokeFunction('convertToInteractive',\n",
              "                                                     [key], {});\n",
              "          if (!dataTable) return;\n",
              "\n",
              "          const docLinkHtml = 'Like what you see? Visit the ' +\n",
              "            '<a target=\"_blank\" href=https://colab.research.google.com/notebooks/data_table.ipynb>data table notebook</a>'\n",
              "            + ' to learn more about interactive tables.';\n",
              "          element.innerHTML = '';\n",
              "          dataTable['output_type'] = 'display_data';\n",
              "          await google.colab.output.renderOutput(dataTable, element);\n",
              "          const docLink = document.createElement('div');\n",
              "          docLink.innerHTML = docLinkHtml;\n",
              "          element.appendChild(docLink);\n",
              "        }\n",
              "      </script>\n",
              "    </div>\n",
              "  </div>\n",
              "  "
            ]
          },
          "metadata": {},
          "execution_count": 13
        }
      ]
    },
    {
      "cell_type": "code",
      "source": [
        "viz_1=sns.barplot(x=\"Host_ID\", y=\"P_Count\", data=top_10_host_df,\n",
        "                 palette='Blues_d')\n",
        "viz_1.set_title('Top 10 Hosts with the most listings in NYC')\n",
        "viz_1.set_ylabel('Count of listings')\n",
        "viz_1.set_xlabel('Host IDs on Airbnb')\n",
        "viz_1.set_xticklabels(viz_1.get_xticklabels(), rotation=45)"
      ],
      "metadata": {
        "colab": {
          "base_uri": "https://localhost:8080/",
          "height": 734
        },
        "id": "tjEJvtqKXdMD",
        "outputId": "baa739b6-705b-46ec-d887-016d7abe2d1d"
      },
      "execution_count": null,
      "outputs": [
        {
          "output_type": "execute_result",
          "data": {
            "text/plain": [
              "[Text(0, 0, '7503643'),\n",
              " Text(0, 0, '12243051'),\n",
              " Text(0, 0, '16098958'),\n",
              " Text(0, 0, '22541573'),\n",
              " Text(0, 0, '30283594'),\n",
              " Text(0, 0, '61391963'),\n",
              " Text(0, 0, '107434423'),\n",
              " Text(0, 0, '137358866'),\n",
              " Text(0, 0, '200380610'),\n",
              " Text(0, 0, '219517861')]"
            ]
          },
          "metadata": {},
          "execution_count": 14
        },
        {
          "output_type": "display_data",
          "data": {
            "text/plain": [
              "<Figure size 720x576 with 1 Axes>"
            ],
            "image/png": "[encoded data removed]"
          },
          "metadata": {}
        }
      ]
    },
    {
      "cell_type": "code",
      "source": [
        "#Lets find the unique values of neighbourhood\n",
        "len(airbnb.neighbourhood.unique())"
      ],
      "metadata": {
        "colab": {
          "base_uri": "https://localhost:8080/"
        },
        "id": "Md0f6EstXkF9",
        "outputId": "307fded4-5db9-45ba-bb25-9c4222eb73e9"
      },
      "execution_count": null,
      "outputs": [
        {
          "output_type": "execute_result",
          "data": {
            "text/plain": [
              "221"
            ]
          },
          "metadata": {},
          "execution_count": 16
        }
      ]
    },
    {
      "cell_type": "code",
      "source": [
        "#as earlier reflected the values for neighbourhood are way too many to concentrate on;\n",
        "#therefore, let's see the top 20 neighbourhoods that have the most listings in them\n",
        "\n",
        "#Searching out the top 20 neighbourhoods\n",
        "airbnb.neighbourhood.value_counts().head(20)"
      ],
      "metadata": {
        "colab": {
          "base_uri": "https://localhost:8080/"
        },
        "id": "bpExECXSXk9H",
        "outputId": "eeeb6a84-abba-412f-df04-c1c09ec36dc6"
      },
      "execution_count": null,
      "outputs": [
        {
          "output_type": "execute_result",
          "data": {
            "text/plain": [
              "Williamsburg          3920\n",
              "Bedford-Stuyvesant    3714\n",
              "Harlem                2658\n",
              "Bushwick              2465\n",
              "Upper West Side       1971\n",
              "Hell's Kitchen        1958\n",
              "East Village          1853\n",
              "Upper East Side       1798\n",
              "Crown Heights         1564\n",
              "Midtown               1545\n",
              "East Harlem           1117\n",
              "Greenpoint            1115\n",
              "Chelsea               1113\n",
              "Lower East Side        911\n",
              "Astoria                900\n",
              "Washington Heights     899\n",
              "West Village           768\n",
              "Financial District     744\n",
              "Flatbush               621\n",
              "Clinton Hill           572\n",
              "Name: neighbourhood, dtype: int64"
            ]
          },
          "metadata": {},
          "execution_count": 18
        }
      ]
    },
    {
      "cell_type": "code",
      "source": [
        "#let's now combine this data with our boroughs for a rich visualization and some meaninful insight\n",
        "\n",
        "#grabbing top 20 neighbourhoods for sub-dataframe\n",
        "sub_7=airbnb.loc[airbnb['neighbourhood'].isin(['Williamsburg','Bedford-Stuyvesant','Harlem','Bushwick',\n",
        "                 'Upper West Side','Hell\\'s Kitchen','East Village','Upper East Side','Crown Heights','Midtown','East Harlem''Greenpoint',\n",
        "                 'Chelsea''Lower East Side','Astoria','Washington Heights','West Village','Financial District','Flatbush','Clinton Hill'])]\n",
        "#using catplot to represent multiple interesting attributes together and a count\n",
        "viz_3=sns.catplot(x='neighbourhood', hue='neighbourhood_group', data=sub_7, kind='count')\n",
        "viz_3.set_xticklabels(rotation=90)"
      ],
      "metadata": {
        "colab": {
          "base_uri": "https://localhost:8080/",
          "height": 483
        },
        "id": "zIAVkiCtXrl6",
        "outputId": "318a2d8e-6d93-43b2-8d48-4eac77b85279"
      },
      "execution_count": null,
      "outputs": [
        {
          "output_type": "execute_result",
          "data": {
            "text/plain": [
              "<seaborn.axisgrid.FacetGrid at 0x7f34bb7ae850>"
            ]
          },
          "metadata": {},
          "execution_count": 17
        },
        {
          "output_type": "display_data",
          "data": {
            "text/plain": [
              "<Figure size 500.3x360 with 1 Axes>"
            ],
            "image/png": "[encoded data removed]"
          },
          "metadata": {}
        }
      ]
    },
    {
      "cell_type": "markdown",
      "source": [
        "##<b> The maximum crowding of hostings are in the neighbourhood of the boroughs of Manhatten, Brooklyn & Queens  \n",
        "An analysis of a sample of top 20 neighbourhood with repect to their boroughs reflect the insight</b>"
      ],
      "metadata": {
        "id": "UzlK53nRXwD7"
      }
    },
    {
      "cell_type": "code",
      "source": [
        "# Total Listing across neighbourhood\n",
        "sum(airbnb.neighbourhood.value_counts())"
      ],
      "metadata": {
        "colab": {
          "base_uri": "https://localhost:8080/"
        },
        "id": "nbQ9tD8RXvTn",
        "outputId": "acdacda9-4bc1-48e7-d59f-b58618c73a41"
      },
      "execution_count": null,
      "outputs": [
        {
          "output_type": "execute_result",
          "data": {
            "text/plain": [
              "48895"
            ]
          },
          "metadata": {},
          "execution_count": 19
        }
      ]
    },
    {
      "cell_type": "code",
      "source": [
        "# Total Listing across Top 20 neighbourhood\n",
        "sum(airbnb.neighbourhood.value_counts().head(20))"
      ],
      "metadata": {
        "colab": {
          "base_uri": "https://localhost:8080/"
        },
        "id": "ANVXl3cpX3ct",
        "outputId": "74eb6134-f75e-4b41-97a2-c42920f8040a"
      },
      "execution_count": null,
      "outputs": [
        {
          "output_type": "execute_result",
          "data": {
            "text/plain": [
              "32206"
            ]
          },
          "metadata": {},
          "execution_count": 20
        }
      ]
    }
  ]
}